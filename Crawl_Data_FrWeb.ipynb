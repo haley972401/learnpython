{
 "cells": [
  {
   "cell_type": "code",
   "execution_count": null,
   "metadata": {},
   "outputs": [],
   "source": [
    "from selenium import webdriver\n",
    "import pandas as pd\n",
    "from selenium.webdriver.support.ui import Select\n",
    "import time"
   ]
  },
  {
   "cell_type": "markdown",
   "metadata": {},
   "source": [
    "### 1. How to open Chomre auto and click function"
   ]
  },
  {
   "cell_type": "code",
   "execution_count": null,
   "metadata": {},
   "outputs": [],
   "source": [
    "website = 'https://www.adamchoi.co.uk/overs/detailed'\n",
    "path = '/Users/haleynguyen/Documents/chromedriver'\n",
    "driver = webdriver.Chrome(path)\n",
    "driver.get(website)\n",
    "# driver.quit() \n",
    "# XPath Syntax : //tagname[@AttributeName='value'] : Tagname, Thuộc tính, Giá trị\n",
    "# Chuột phải chọn 'Inspect' có thể Ctrl + F nhập vào: //label[@analytics-event=\"All matches\"] để tìm nhớ để ý dấu nháy đơn và dấu nháy kép\n",
    "all_matches_button = driver.find_element_by_xpath('//label[@analytics-event=\"All matches\"]')\n",
    "all_matches_button.click()"
   ]
  },
  {
   "cell_type": "markdown",
   "metadata": {},
   "source": [
    "### 2. How to loop and export to csv from table of Chrome"
   ]
  },
  {
   "cell_type": "code",
   "execution_count": null,
   "metadata": {},
   "outputs": [],
   "source": [
    "matches = driver.find_elements_by_tag_name('tr') # elements tìm nhiều tagName không chỉ 1, cách tìm Ctr + F gõ //tr[td][1]\n",
    "\n",
    "date = []\n",
    "home_team = []\n",
    "scores = []\n",
    "away_team = []\n",
    "\n",
    "for match in matches:\n",
    "    date.append(match.find_element_by_xpath('./td[1]').text)\n",
    "    home_team.append(match.find_element_by_xpath('./td[2]').text)\n",
    "    scores.append(match.find_element_by_xpath('./td[3]').text)\n",
    "    away_team.append(match.find_element_by_xpath('./td[4]').text)\n",
    "\n",
    "df = pd.DataFrame({'Date': date, 'Home Team': home_team, 'Scores': scores, 'Away Team': away_team})\n",
    "df.to_csv('Foot_Ball_Data.csv', index=False)"
   ]
  },
  {
   "cell_type": "markdown",
   "metadata": {},
   "source": [
    "### 3. How to click function on select down categories"
   ]
  },
  {
   "cell_type": "code",
   "execution_count": null,
   "metadata": {},
   "outputs": [],
   "source": [
    "\n",
    "all_matches_button = driver.find_element_by_xpath('//label[@analytics-event=\"All matches\"]')\n",
    "all_matches_button.click()\n",
    "dropdown =  Select(driver.find_element_by_id(\"country\"))"
   ]
  },
  {
   "cell_type": "code",
   "execution_count": null,
   "metadata": {},
   "outputs": [],
   "source": [
    "# website = 'https://www.adamchoi.co.uk/overs/detailed'\n",
    "# path = '/Users/haleynguyen/Documents/chromedriver'\n",
    "# driver = webdriver.Chrome(path)\n",
    "# driver.get(website)\n",
    "# select = Select(driver.find_element_by_id(\"country\"))\n",
    "# options = select.options\n",
    "# for index in range(0, len(options) - 1):\n",
    "#     select.select_by_index(index)\n",
    "#     time.sleep(5)\n",
    "#     # print(select.first_selected_option.text)\n",
    "#     # do stuff\n",
    "# time.sleep(2)\n",
    "# driver.quit()"
   ]
  }
 ],
 "metadata": {
  "kernelspec": {
   "display_name": "Python 3.9.13 ('base')",
   "language": "python",
   "name": "python3"
  },
  "language_info": {
   "codemirror_mode": {
    "name": "ipython",
    "version": 3
   },
   "file_extension": ".py",
   "mimetype": "text/x-python",
   "name": "python",
   "nbconvert_exporter": "python",
   "pygments_lexer": "ipython3",
   "version": "3.9.13"
  },
  "orig_nbformat": 4,
  "vscode": {
   "interpreter": {
    "hash": "194f8b60b6c33fc4680bed4c9bc2f57dcf17c3b0b1c1d91b8f310071d35f8592"
   }
  }
 },
 "nbformat": 4,
 "nbformat_minor": 2
}
