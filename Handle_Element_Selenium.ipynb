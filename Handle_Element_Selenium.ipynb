{
 "cells": [
  {
   "cell_type": "code",
   "execution_count": 2,
   "metadata": {},
   "outputs": [],
   "source": [
    "from selenium import webdriver\n",
    "import pandas as pd\n",
    "from selenium.webdriver.support.ui import Select\n",
    "import time"
   ]
  },
  {
   "cell_type": "code",
   "execution_count": 4,
   "metadata": {},
   "outputs": [],
   "source": [
    "#Get website and access\n",
    "website = 'https://fs2.formsite.com/meherpavan/form2/index.html?1537702596407'\n",
    "path = '/Users/haleynguyen/Documents/chromedriver'\n",
    "driver = webdriver.Chrome(path)\n",
    "driver.get(website)"
   ]
  },
  {
   "cell_type": "markdown",
   "metadata": {},
   "source": [
    "### 1. Handle with dropdown"
   ]
  },
  {
   "cell_type": "code",
   "execution_count": 8,
   "metadata": {},
   "outputs": [],
   "source": [
    "element = driver.find_element_by_id(\"RESULT_RadioButton-9\")\n",
    "dropdown = Select(element)\n",
    "\n",
    "dropdown.select_by_index(1)\n",
    "# dropdown.select_by_value(\"Radio-0\")\n",
    "# dropdown.select_by_visible_text('Evening')\n"
   ]
  },
  {
   "cell_type": "code",
   "execution_count": 14,
   "metadata": {},
   "outputs": [
    {
     "name": "stdout",
     "output_type": "stream",
     "text": [
      "\n",
      "Morning\n",
      "Afternoon\n",
      "Evening\n"
     ]
    }
   ],
   "source": [
    "#Capture all the options and print them as output\n",
    "all_options = dropdown.options\n",
    "for items in all_options:\n",
    "    print(items.text)"
   ]
  },
  {
   "cell_type": "markdown",
   "metadata": {},
   "source": [
    "### 2. Handle with Input box/Test Box"
   ]
  },
  {
   "cell_type": "code",
   "execution_count": 21,
   "metadata": {},
   "outputs": [
    {
     "name": "stdout",
     "output_type": "stream",
     "text": [
      "6\n",
      "True\n"
     ]
    }
   ],
   "source": [
    "input_boxes = driver.find_elements_by_class_name(\"text_field\")\n",
    "print(len(input_boxes))\n",
    "\n",
    "#How to get status of input boxes\n",
    "status_first_name = driver.find_element_by_xpath(\"//input[@id='RESULT_TextField-1']\").is_displayed()\n",
    "print(status_first_name) #True or False\n",
    "\n",
    "#How to provide info to input boxes\n",
    "first_name = driver.find_element_by_xpath(\"//input[@id='RESULT_TextField-1']\").send_keys(\"Duyen\")\n",
    "last_name = driver.find_element_by_xpath(\"//input[@id='RESULT_TextField-2']\").send_keys(\"Nguyen\")\n",
    "phone = driver.find_element_by_xpath(\"//input[@id='RESULT_TextField-3']\").send_keys(\"601126708295\")\n",
    "country = driver.find_element_by_id(\"RESULT_TextField-4\").send_keys(\"Viet Nam\")\n"
   ]
  }
 ],
 "metadata": {
  "kernelspec": {
   "display_name": "Python 3.9.13 ('base')",
   "language": "python",
   "name": "python3"
  },
  "language_info": {
   "codemirror_mode": {
    "name": "ipython",
    "version": 3
   },
   "file_extension": ".py",
   "mimetype": "text/x-python",
   "name": "python",
   "nbconvert_exporter": "python",
   "pygments_lexer": "ipython3",
   "version": "3.9.13"
  },
  "orig_nbformat": 4,
  "vscode": {
   "interpreter": {
    "hash": "194f8b60b6c33fc4680bed4c9bc2f57dcf17c3b0b1c1d91b8f310071d35f8592"
   }
  }
 },
 "nbformat": 4,
 "nbformat_minor": 2
}
